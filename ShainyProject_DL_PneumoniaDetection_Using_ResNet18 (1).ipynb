{
  "cells": [
    {
      "cell_type": "markdown",
      "metadata": {
        "id": "zs5YQUEhiA2y"
      },
      "source": [
        "# Step 1: Set Up Kaggle API & Download Dataset"
      ]
    },
    {
      "cell_type": "markdown",
      "metadata": {
        "id": "ZtojdfcJiHvo"
      },
      "source": [
        "Step 1.1: Import and Upload kaggle.json"
      ]
    },
    {
      "cell_type": "code",
      "execution_count": null,
      "metadata": {
        "colab": {
          "base_uri": "https://localhost:8080/",
          "height": 38
        },
        "id": "UcK50eWVhuSh",
        "outputId": "149db4f9-6293-4a60-f5e0-3e325559487a"
      },
      "outputs": [
        {
          "output_type": "display_data",
          "data": {
            "text/plain": [
              "<IPython.core.display.HTML object>"
            ],
            "text/html": [
              "\n",
              "     <input type=\"file\" id=\"files-42cb8a70-3f5c-47d1-b476-c8400fd7b785\" name=\"files[]\" multiple disabled\n",
              "        style=\"border:none\" />\n",
              "     <output id=\"result-42cb8a70-3f5c-47d1-b476-c8400fd7b785\">\n",
              "      Upload widget is only available when the cell has been executed in the\n",
              "      current browser session. Please rerun this cell to enable.\n",
              "      </output>\n",
              "      <script>// Copyright 2017 Google LLC\n",
              "//\n",
              "// Licensed under the Apache License, Version 2.0 (the \"License\");\n",
              "// you may not use this file except in compliance with the License.\n",
              "// You may obtain a copy of the License at\n",
              "//\n",
              "//      http://www.apache.org/licenses/LICENSE-2.0\n",
              "//\n",
              "// Unless required by applicable law or agreed to in writing, software\n",
              "// distributed under the License is distributed on an \"AS IS\" BASIS,\n",
              "// WITHOUT WARRANTIES OR CONDITIONS OF ANY KIND, either express or implied.\n",
              "// See the License for the specific language governing permissions and\n",
              "// limitations under the License.\n",
              "\n",
              "/**\n",
              " * @fileoverview Helpers for google.colab Python module.\n",
              " */\n",
              "(function(scope) {\n",
              "function span(text, styleAttributes = {}) {\n",
              "  const element = document.createElement('span');\n",
              "  element.textContent = text;\n",
              "  for (const key of Object.keys(styleAttributes)) {\n",
              "    element.style[key] = styleAttributes[key];\n",
              "  }\n",
              "  return element;\n",
              "}\n",
              "\n",
              "// Max number of bytes which will be uploaded at a time.\n",
              "const MAX_PAYLOAD_SIZE = 100 * 1024;\n",
              "\n",
              "function _uploadFiles(inputId, outputId) {\n",
              "  const steps = uploadFilesStep(inputId, outputId);\n",
              "  const outputElement = document.getElementById(outputId);\n",
              "  // Cache steps on the outputElement to make it available for the next call\n",
              "  // to uploadFilesContinue from Python.\n",
              "  outputElement.steps = steps;\n",
              "\n",
              "  return _uploadFilesContinue(outputId);\n",
              "}\n",
              "\n",
              "// This is roughly an async generator (not supported in the browser yet),\n",
              "// where there are multiple asynchronous steps and the Python side is going\n",
              "// to poll for completion of each step.\n",
              "// This uses a Promise to block the python side on completion of each step,\n",
              "// then passes the result of the previous step as the input to the next step.\n",
              "function _uploadFilesContinue(outputId) {\n",
              "  const outputElement = document.getElementById(outputId);\n",
              "  const steps = outputElement.steps;\n",
              "\n",
              "  const next = steps.next(outputElement.lastPromiseValue);\n",
              "  return Promise.resolve(next.value.promise).then((value) => {\n",
              "    // Cache the last promise value to make it available to the next\n",
              "    // step of the generator.\n",
              "    outputElement.lastPromiseValue = value;\n",
              "    return next.value.response;\n",
              "  });\n",
              "}\n",
              "\n",
              "/**\n",
              " * Generator function which is called between each async step of the upload\n",
              " * process.\n",
              " * @param {string} inputId Element ID of the input file picker element.\n",
              " * @param {string} outputId Element ID of the output display.\n",
              " * @return {!Iterable<!Object>} Iterable of next steps.\n",
              " */\n",
              "function* uploadFilesStep(inputId, outputId) {\n",
              "  const inputElement = document.getElementById(inputId);\n",
              "  inputElement.disabled = false;\n",
              "\n",
              "  const outputElement = document.getElementById(outputId);\n",
              "  outputElement.innerHTML = '';\n",
              "\n",
              "  const pickedPromise = new Promise((resolve) => {\n",
              "    inputElement.addEventListener('change', (e) => {\n",
              "      resolve(e.target.files);\n",
              "    });\n",
              "  });\n",
              "\n",
              "  const cancel = document.createElement('button');\n",
              "  inputElement.parentElement.appendChild(cancel);\n",
              "  cancel.textContent = 'Cancel upload';\n",
              "  const cancelPromise = new Promise((resolve) => {\n",
              "    cancel.onclick = () => {\n",
              "      resolve(null);\n",
              "    };\n",
              "  });\n",
              "\n",
              "  // Wait for the user to pick the files.\n",
              "  const files = yield {\n",
              "    promise: Promise.race([pickedPromise, cancelPromise]),\n",
              "    response: {\n",
              "      action: 'starting',\n",
              "    }\n",
              "  };\n",
              "\n",
              "  cancel.remove();\n",
              "\n",
              "  // Disable the input element since further picks are not allowed.\n",
              "  inputElement.disabled = true;\n",
              "\n",
              "  if (!files) {\n",
              "    return {\n",
              "      response: {\n",
              "        action: 'complete',\n",
              "      }\n",
              "    };\n",
              "  }\n",
              "\n",
              "  for (const file of files) {\n",
              "    const li = document.createElement('li');\n",
              "    li.append(span(file.name, {fontWeight: 'bold'}));\n",
              "    li.append(span(\n",
              "        `(${file.type || 'n/a'}) - ${file.size} bytes, ` +\n",
              "        `last modified: ${\n",
              "            file.lastModifiedDate ? file.lastModifiedDate.toLocaleDateString() :\n",
              "                                    'n/a'} - `));\n",
              "    const percent = span('0% done');\n",
              "    li.appendChild(percent);\n",
              "\n",
              "    outputElement.appendChild(li);\n",
              "\n",
              "    const fileDataPromise = new Promise((resolve) => {\n",
              "      const reader = new FileReader();\n",
              "      reader.onload = (e) => {\n",
              "        resolve(e.target.result);\n",
              "      };\n",
              "      reader.readAsArrayBuffer(file);\n",
              "    });\n",
              "    // Wait for the data to be ready.\n",
              "    let fileData = yield {\n",
              "      promise: fileDataPromise,\n",
              "      response: {\n",
              "        action: 'continue',\n",
              "      }\n",
              "    };\n",
              "\n",
              "    // Use a chunked sending to avoid message size limits. See b/62115660.\n",
              "    let position = 0;\n",
              "    do {\n",
              "      const length = Math.min(fileData.byteLength - position, MAX_PAYLOAD_SIZE);\n",
              "      const chunk = new Uint8Array(fileData, position, length);\n",
              "      position += length;\n",
              "\n",
              "      const base64 = btoa(String.fromCharCode.apply(null, chunk));\n",
              "      yield {\n",
              "        response: {\n",
              "          action: 'append',\n",
              "          file: file.name,\n",
              "          data: base64,\n",
              "        },\n",
              "      };\n",
              "\n",
              "      let percentDone = fileData.byteLength === 0 ?\n",
              "          100 :\n",
              "          Math.round((position / fileData.byteLength) * 100);\n",
              "      percent.textContent = `${percentDone}% done`;\n",
              "\n",
              "    } while (position < fileData.byteLength);\n",
              "  }\n",
              "\n",
              "  // All done.\n",
              "  yield {\n",
              "    response: {\n",
              "      action: 'complete',\n",
              "    }\n",
              "  };\n",
              "}\n",
              "\n",
              "scope.google = scope.google || {};\n",
              "scope.google.colab = scope.google.colab || {};\n",
              "scope.google.colab._files = {\n",
              "  _uploadFiles,\n",
              "  _uploadFilesContinue,\n",
              "};\n",
              "})(self);\n",
              "</script> "
            ]
          },
          "metadata": {}
        }
      ],
      "source": [
        "from google.colab import files\n",
        "files.upload()  # Upload kaggle.json when prompted\n"
      ]
    },
    {
      "cell_type": "markdown",
      "metadata": {
        "id": "gCFdtLl1iKBb"
      },
      "source": [
        "Step 1.2: Configure Kaggle API and Download Dataset"
      ]
    },
    {
      "cell_type": "code",
      "execution_count": null,
      "metadata": {
        "collapsed": true,
        "id": "xxEEROzMiJX1"
      },
      "outputs": [],
      "source": [
        "# Step 1.2: Setup Kaggle API and Download Dataset\n",
        "!mkdir -p ~/.kaggle\n",
        "!cp kaggle.json ~/.kaggle/\n",
        "!chmod 600 ~/.kaggle/kaggle.json\n",
        "\n",
        "# Download Chest X-ray Pneumonia dataset\n",
        "!kaggle datasets download -d paultimothymooney/chest-xray-pneumonia\n",
        "\n",
        "# Unzip the dataset\n",
        "!unzip chest-xray-pneumonia.zip\n"
      ]
    },
    {
      "cell_type": "markdown",
      "metadata": {
        "id": "1hTrNTX0iajj"
      },
      "source": [
        "# Step 2: Data Exploration — IN PROGRESS"
      ]
    },
    {
      "cell_type": "markdown",
      "metadata": {
        "id": "f-a5yXatic4C"
      },
      "source": [
        "Step 2.1: Check Dataset Structure and Counts"
      ]
    },
    {
      "cell_type": "code",
      "execution_count": null,
      "metadata": {
        "collapsed": true,
        "id": "8FNK6d9TiXzC"
      },
      "outputs": [],
      "source": [
        "import os\n",
        "\n",
        "base_dir = \"chest_xray\"\n",
        "\n",
        "for split in ['train', 'val', 'test']:\n",
        "    print(f\"\\n[{split.upper()}]\")\n",
        "    for category in os.listdir(os.path.join(base_dir, split)):\n",
        "        folder = os.path.join(base_dir, split, category)\n",
        "        count = len(os.listdir(folder))\n",
        "        print(f\"{category}: {count} images\")\n"
      ]
    },
    {
      "cell_type": "markdown",
      "metadata": {
        "id": "Z9KmuUtqih9Z"
      },
      "source": [
        "# Step 3: Data Preprocessing — IN PROGRESS"
      ]
    },
    {
      "cell_type": "markdown",
      "metadata": {
        "id": "frqe-ZI-ii-U"
      },
      "source": [
        "Step 3.1: Define Transforms for Train, Val, and Test"
      ]
    },
    {
      "cell_type": "code",
      "execution_count": null,
      "metadata": {
        "id": "bReDj5nFifGG"
      },
      "outputs": [],
      "source": [
        "from torchvision import transforms\n",
        "\n",
        "train_transforms = transforms.Compose([\n",
        "    transforms.Resize((224, 224)),\n",
        "    transforms.Grayscale(num_output_channels=3),\n",
        "    transforms.RandomHorizontalFlip(),                      # ← still good\n",
        "    transforms.RandomRotation(10),                          # ✅ new\n",
        "    transforms.ColorJitter(brightness=0.2, contrast=0.2),   # ✅ new\n",
        "    transforms.ToTensor(),\n",
        "    transforms.Normalize([0.485, 0.456, 0.406],\n",
        "                         [0.229, 0.224, 0.225])\n",
        "])\n",
        "\n",
        "\n",
        "# For Validation & Testing\n",
        "val_test_transforms = transforms.Compose([\n",
        "    transforms.Resize((224, 224)),\n",
        "    transforms.Grayscale(num_output_channels=3),   # ✅ Repeat grayscale to 3 channels\n",
        "    transforms.ToTensor(),\n",
        "    transforms.Normalize([0.485, 0.456, 0.406],\n",
        "                         [0.229, 0.224, 0.225])\n",
        "])\n"
      ]
    },
    {
      "cell_type": "markdown",
      "metadata": {
        "id": "wIATYWiwi5CZ"
      },
      "source": [
        "# Step 4: Load the Dataset with ImageFolder — IN PROGRESS"
      ]
    },
    {
      "cell_type": "markdown",
      "metadata": {
        "id": "ymGsKn4ki7lo"
      },
      "source": [
        "Step 4.1: Load Data Using ImageFolder"
      ]
    },
    {
      "cell_type": "code",
      "execution_count": null,
      "metadata": {
        "id": "hJCTXY6hitAw"
      },
      "outputs": [],
      "source": [
        "from torchvision.datasets import ImageFolder\n",
        "from torch.utils.data import DataLoader\n",
        "\n",
        "# Dataset paths\n",
        "train_dir = \"chest_xray/train\"\n",
        "val_dir = \"chest_xray/val\"\n",
        "test_dir = \"chest_xray/test\"\n",
        "\n",
        "# Create datasets\n",
        "train_dataset = ImageFolder(train_dir, transform=train_transforms)\n",
        "val_dataset = ImageFolder(val_dir, transform=val_test_transforms)\n",
        "test_dataset = ImageFolder(test_dir, transform=val_test_transforms)\n",
        "\n",
        "# Create data loaders\n",
        "train_loader = DataLoader(train_dataset, batch_size=32, shuffle=True)\n",
        "val_loader = DataLoader(val_dataset, batch_size=32, shuffle=False)\n",
        "test_loader = DataLoader(test_dataset, batch_size=32, shuffle=False)\n"
      ]
    },
    {
      "cell_type": "markdown",
      "metadata": {
        "id": "sSCi9SI2jFv4"
      },
      "source": [
        "# Step 5: Model Selection — IN PROGRESS"
      ]
    },
    {
      "cell_type": "code",
      "execution_count": null,
      "metadata": {
        "id": "_Svs7RYSi-t-"
      },
      "outputs": [],
      "source": [
        "from torchvision.models import resnet18\n",
        "import torch.nn as nn\n",
        "import torch\n",
        "\n",
        "# Set device\n",
        "device = torch.device(\"cuda\" if torch.cuda.is_available() else \"cpu\")\n",
        "\n",
        "# Load pre-trained ResNet18\n",
        "resnet_model = resnet18(weights=\"IMAGENET1K_V1\")\n",
        "\n",
        "# ✅ Unfreeze only the last block (layer4) and fully connected layer\n",
        "for name, param in resnet_model.named_parameters():\n",
        "    if \"layer4\" in name or \"fc\" in name:\n",
        "        param.requires_grad = True   # allow training\n",
        "    else:\n",
        "        param.requires_grad = False  # keep frozen\n",
        "\n",
        "# ✅ Modify final FC layer for 2 output classes (NORMAL & PNEUMONIA)\n",
        "num_ftrs = resnet_model.fc.in_features\n",
        "resnet_model.fc = nn.Linear(num_ftrs, 2)\n",
        "\n",
        "# Move model to GPU (if available)\n",
        "resnet_model = resnet_model.to(device)\n"
      ]
    },
    {
      "cell_type": "markdown",
      "metadata": {
        "id": "LRutAxjKjhAe"
      },
      "source": [
        "# Step 6: Define Loss Function and Optimizer — IN PROGRESS"
      ]
    },
    {
      "cell_type": "markdown",
      "metadata": {
        "id": "lCO5NxV3jj7u"
      },
      "source": [
        "Step 6.1: Define Criterion and Optimizer"
      ]
    },
    {
      "cell_type": "code",
      "execution_count": null,
      "metadata": {
        "id": "NUaChL4gjIIY"
      },
      "outputs": [],
      "source": [
        "import torch.optim as optim\n",
        "\n",
        "# ✅ Weighted CrossEntropyLoss to focus more on NORMAL class\n",
        "weights = torch.tensor([2.0, 1.0]).to(device)  # Class 0 = NORMAL, Class 1 = PNEUMONIA\n",
        "criterion = nn.CrossEntropyLoss(weight=weights)\n",
        "\n",
        "# ✅ Optimizer: update only trainable parameters (layer4 + fc)\n",
        "optimizer = torch.optim.Adam(\n",
        "    filter(lambda p: p.requires_grad, resnet_model.parameters()), lr=0.001\n",
        ")"
      ]
    },
    {
      "cell_type": "markdown",
      "metadata": {
        "id": "9S_3D8_ojnzi"
      },
      "source": [
        "# Step 7: Training the Model — IN PROGRESS"
      ]
    },
    {
      "cell_type": "markdown",
      "metadata": {
        "id": "Rki5zmD5jov7"
      },
      "source": [
        "Step 7.1: Train the Model"
      ]
    },
    {
      "cell_type": "code",
      "execution_count": null,
      "metadata": {
        "id": "6-Zsj74-jlpC"
      },
      "outputs": [],
      "source": [
        "# Set model to training mode\n",
        "resnet_model.train()\n",
        "\n",
        "num_epochs = 10  # You can increase this later\n",
        "train_losses = []\n",
        "\n",
        "for epoch in range(num_epochs):\n",
        "    running_loss = 0.0\n",
        "\n",
        "    for inputs, labels in train_loader:\n",
        "        inputs, labels = inputs.to(device), labels.to(device)\n",
        "\n",
        "        # Zero the parameter gradients\n",
        "        optimizer.zero_grad()\n",
        "\n",
        "        # Forward pass\n",
        "        outputs = resnet_model(inputs)\n",
        "        loss = criterion(outputs, labels)\n",
        "\n",
        "        # Backward + optimize\n",
        "        loss.backward()\n",
        "        optimizer.step()\n",
        "\n",
        "        running_loss += loss.item()\n",
        "\n",
        "    avg_loss = running_loss / len(train_loader)\n",
        "    train_losses.append(avg_loss)\n",
        "    print(f\"Epoch [{epoch+1}/{num_epochs}], Loss: {avg_loss:.4f}\")\n",
        "\n",
        "print(\"✅ Training Complete!\")\n"
      ]
    },
    {
      "cell_type": "markdown",
      "metadata": {
        "id": "_cKLT7YlkA1_"
      },
      "source": [
        "# Step 8: Test the Model — IN PROGRESS"
      ]
    },
    {
      "cell_type": "markdown",
      "metadata": {
        "id": "tbQQy3JckDWA"
      },
      "source": [
        "Step 8.1: Evaluate on Test Set"
      ]
    },
    {
      "cell_type": "code",
      "execution_count": null,
      "metadata": {
        "id": "wgN9j-7Dj8tj"
      },
      "outputs": [],
      "source": [
        "from sklearn.metrics import accuracy_score, precision_score, recall_score, f1_score\n",
        "\n",
        "resnet_model.eval()\n",
        "\n",
        "y_true = []\n",
        "y_pred = []\n",
        "\n",
        "with torch.no_grad():\n",
        "    for images, labels in test_loader:\n",
        "        images, labels = images.to(device), labels.to(device)\n",
        "        outputs = resnet_model(images)\n",
        "        _, preds = torch.max(outputs, 1)\n",
        "\n",
        "        y_true.extend(labels.cpu().numpy())\n",
        "        y_pred.extend(preds.cpu().numpy())\n",
        "\n",
        "\n",
        "# Compute scores\n",
        "acc = accuracy_score(y_true, y_pred)\n",
        "prec = precision_score(y_true, y_pred)\n",
        "rec = recall_score(y_true, y_pred)\n",
        "f1 = f1_score(y_true, y_pred)\n",
        "\n",
        "print(f\"Test Accuracy:  {acc:.4f}\")\n",
        "print(f\"Test Precision: {prec:.4f}\")\n",
        "print(f\"Test Recall:    {rec:.4f}\")\n",
        "print(f\"Test F1 Score:  {f1:.4f}\")\n"
      ]
    },
    {
      "cell_type": "markdown",
      "metadata": {
        "id": "0vPDW9ZlkJRU"
      },
      "source": [
        "# Step 9: Confusion Matrix — IN PROGRESS"
      ]
    },
    {
      "cell_type": "markdown",
      "metadata": {
        "id": "Z11W9ZPOkMsn"
      },
      "source": [
        "Step 9.1: Plot Confusion Matrix"
      ]
    },
    {
      "cell_type": "code",
      "execution_count": null,
      "metadata": {
        "id": "k_rrhvzGkL9K"
      },
      "outputs": [],
      "source": [
        "import matplotlib.pyplot as plt\n",
        "from sklearn.metrics import confusion_matrix, ConfusionMatrixDisplay\n",
        "\n",
        "# Create confusion matrix\n",
        "cm = confusion_matrix(y_true, y_pred)\n",
        "labels = train_dataset.classes  # ['NORMAL', 'PNEUMONIA']\n",
        "\n",
        "# Plot\n",
        "disp = ConfusionMatrixDisplay(confusion_matrix=cm, display_labels=labels)\n",
        "disp.plot(cmap=plt.cm.Blues)\n",
        "plt.title(\"Confusion Matrix on Test Set\")\n",
        "plt.show()\n"
      ]
    },
    {
      "cell_type": "markdown",
      "metadata": {
        "id": "pKkNmeQWkTR_"
      },
      "source": [
        "# Step 10: Grad-CAM (Explainability)"
      ]
    },
    {
      "cell_type": "code",
      "execution_count": null,
      "metadata": {
        "collapsed": true,
        "id": "IS6I5T2pkUBP"
      },
      "outputs": [],
      "source": [
        "# Install torchcam\n",
        "!pip install torchcam --quiet\n"
      ]
    },
    {
      "cell_type": "markdown",
      "metadata": {
        "id": "iXTJHysOkgsq"
      },
      "source": [
        "Import and Set Up Grad-CAM"
      ]
    },
    {
      "cell_type": "code",
      "execution_count": null,
      "metadata": {
        "id": "hG9PCbeLkhaZ"
      },
      "outputs": [],
      "source": [
        "from torchcam.methods import GradCAM\n",
        "from torchcam.utils import overlay_mask\n",
        "from torchvision.transforms.functional import to_pil_image\n",
        "import matplotlib.pyplot as plt\n",
        "from PIL import Image\n",
        "import torchvision.transforms as transforms\n"
      ]
    },
    {
      "cell_type": "markdown",
      "metadata": {
        "id": "X3g0J9kgkplH"
      },
      "source": [
        "Initialize Grad-CAM on ResNet18"
      ]
    },
    {
      "cell_type": "code",
      "execution_count": null,
      "metadata": {
        "id": "OemeW0Y2kqOS"
      },
      "outputs": [],
      "source": [
        "cam_extractor = GradCAM(resnet_model, target_layer=\"layer4\")\n"
      ]
    },
    {
      "cell_type": "markdown",
      "metadata": {
        "id": "A7x6QWoakuYq"
      },
      "source": [
        "Define Grad-CAM Function"
      ]
    },
    {
      "cell_type": "code",
      "execution_count": null,
      "metadata": {
        "id": "1LCdKsawkvAm"
      },
      "outputs": [],
      "source": [
        "def generate_gradcam(model, image_path, target_class=None):\n",
        "    model.eval()\n",
        "\n",
        "    # Image preprocessing\n",
        "    transform = transforms.Compose([\n",
        "        transforms.Resize((224, 224)),\n",
        "        transforms.ToTensor(),\n",
        "        transforms.Normalize([0.485], [0.229])\n",
        "    ])\n",
        "\n",
        "    image = Image.open(image_path).convert(\"RGB\")\n",
        "    input_tensor = transform(image).unsqueeze(0).to(device)\n",
        "    input_tensor.requires_grad_()\n",
        "\n",
        "    # Forward pass\n",
        "    output = model(input_tensor)\n",
        "\n",
        "    # Get class index (if not provided)\n",
        "    class_idx = target_class if target_class is not None else output.argmax().item()\n",
        "\n",
        "    # Extract CAM\n",
        "    activation_map = cam_extractor(class_idx, output)[0].cpu()\n",
        "\n",
        "    # Convert to image\n",
        "    result = overlay_mask(\n",
        "        to_pil_image(input_tensor.squeeze().cpu()),\n",
        "        to_pil_image(activation_map, mode='F'),\n",
        "        alpha=0.5\n",
        "    )\n",
        "\n",
        "    # Display the result\n",
        "    plt.imshow(result)\n",
        "    plt.title(f\"Predicted: {class_idx}\")\n",
        "    plt.axis('off')\n",
        "    plt.show()\n"
      ]
    },
    {
      "cell_type": "markdown",
      "metadata": {
        "id": "jooxLpcikxun"
      },
      "source": [
        "Run Grad-CAM on a Sample Image"
      ]
    },
    {
      "cell_type": "code",
      "execution_count": null,
      "metadata": {
        "id": "4iOXUCBulCwE"
      },
      "outputs": [],
      "source": [
        "generate_gradcam(resnet_model, \"chest_xray/test/PNEUMONIA/person30_virus_69.jpeg\")\n"
      ]
    },
    {
      "cell_type": "markdown",
      "metadata": {
        "id": "k6keT2mklFFS"
      },
      "source": [
        "1. Evaluate ResNet18 on Test Set"
      ]
    },
    {
      "cell_type": "code",
      "execution_count": null,
      "metadata": {
        "id": "7MGtwt5UlI6n"
      },
      "outputs": [],
      "source": [
        "from sklearn.metrics import classification_report, confusion_matrix, accuracy_score\n",
        "\n",
        "print(\"Accuracy:\", accuracy_score(y_true, y_pred))\n",
        "print(\"\\nClassification Report:\\n\", classification_report(y_true, y_pred, target_names=['NORMAL', 'PNEUMONIA']))\n",
        "\n",
        "# Optional: Show confusion matrix\n",
        "import seaborn as sns\n",
        "import matplotlib.pyplot as plt\n",
        "\n",
        "cm = confusion_matrix(y_true, y_pred)\n",
        "sns.heatmap(cm, annot=True, fmt='d', xticklabels=['NORMAL', 'PNEUMONIA'], yticklabels=['NORMAL', 'PNEUMONIA'])\n",
        "plt.xlabel('Predicted')\n",
        "plt.ylabel('True')\n",
        "plt.title('Confusion Matrix - ResNet18')\n",
        "plt.show()\n"
      ]
    },
    {
      "cell_type": "markdown",
      "metadata": {
        "id": "j9Sq9duylMia"
      },
      "source": [
        "Step 1: Save the Trained ResNet18 Model"
      ]
    },
    {
      "cell_type": "code",
      "execution_count": null,
      "metadata": {
        "id": "K8--M7qElNSD"
      },
      "outputs": [],
      "source": [
        "import torch\n",
        "\n",
        "# Save trained ResNet18 model's weights\n",
        "torch.save(resnet_model.state_dict(), \"resnet_pneumonia_model.pth\")\n",
        "print(\"✅ Model saved as resnet_pneumonia_model.pth\")\n"
      ]
    },
    {
      "cell_type": "markdown",
      "metadata": {
        "id": "dM4by9gqlS9w"
      },
      "source": [
        "Step 2: Download the Trained Model to Your System"
      ]
    },
    {
      "cell_type": "code",
      "execution_count": null,
      "metadata": {
        "id": "rhcl8qnmlUI9"
      },
      "outputs": [],
      "source": [
        "from google.colab import files\n",
        "files.download(\"resnet_pneumonia_model.pth\")\n"
      ]
    },
    {
      "cell_type": "markdown",
      "metadata": {
        "id": "DVF9mtL9lhLF"
      },
      "source": [
        "# Gradio Web UI with ResNet18 + Grad-CAM"
      ]
    },
    {
      "cell_type": "code",
      "execution_count": null,
      "metadata": {
        "id": "e85bTX7hlhyw"
      },
      "outputs": [],
      "source": [
        "import gradio as gr\n",
        "import torch\n",
        "import torch.nn as nn\n",
        "from torchvision import transforms\n",
        "from torchvision.models import resnet18\n",
        "from torchcam.methods import GradCAM\n",
        "from torchcam.utils import overlay_mask\n",
        "from torchvision.transforms.functional import to_pil_image\n",
        "from PIL import Image\n",
        "import matplotlib.pyplot as plt\n",
        "import numpy as np\n",
        "\n",
        "# Device setup\n",
        "device = torch.device(\"cuda\" if torch.cuda.is_available() else \"cpu\")\n",
        "\n",
        "# Load ResNet18 and your model weights\n",
        "model = resnet18(weights=\"IMAGENET1K_V1\")\n",
        "model.fc = nn.Linear(model.fc.in_features, 2)\n",
        "model.load_state_dict(torch.load(\"resnet_pneumonia_model.pth\", map_location=device))\n",
        "model.to(device)\n",
        "model.eval()\n",
        "\n",
        "# GradCAM setup\n",
        "cam_extractor = GradCAM(model, target_layer=\"layer4\")\n",
        "\n",
        "# Transforms\n",
        "transform = transforms.Compose([\n",
        "    transforms.Resize((224, 224)),\n",
        "    transforms.ToTensor(),\n",
        "    transforms.Normalize([0.485], [0.229])\n",
        "])\n",
        "\n",
        "# Prediction function\n",
        "def predict_with_cam(img):\n",
        "    img = img.convert(\"RGB\")\n",
        "    input_tensor = transform(img).unsqueeze(0).to(device)\n",
        "    input_tensor.requires_grad_()\n",
        "\n",
        "    # Predict\n",
        "    output = model(input_tensor)\n",
        "    class_idx = output.argmax().item()\n",
        "    class_name = [\"NORMAL\", \"PNEUMONIA\"][class_idx]\n",
        "\n",
        "    # Generate Grad-CAM\n",
        "    activation_map = cam_extractor(class_idx, output)[0].cpu()\n",
        "    result = overlay_mask(\n",
        "        to_pil_image(input_tensor.squeeze().cpu()),\n",
        "        to_pil_image(activation_map, mode='F'),\n",
        "        alpha=0.5\n",
        "    )\n",
        "\n",
        "    return result, f\"Prediction: {class_name}\"\n",
        "\n",
        "# Launch Gradio UI\n",
        "gr.Interface(\n",
        "    fn=predict_with_cam,\n",
        "    inputs=gr.Image(type=\"pil\", label=\"Upload Chest X-ray\"),\n",
        "    outputs=[\n",
        "        gr.Image(label=\"Grad-CAM Heatmap\"),\n",
        "        gr.Label(label=\"Diagnosis\")\n",
        "    ],\n",
        "    title=\"🩺 Pneumonia Detection with ResNet18 + Grad-CAM\",\n",
        "    description=\"Upload a chest X-ray image to classify and visualize the result using ResNet18.\"\n",
        ").launch(share=True)\n"
      ]
    },
    {
      "cell_type": "code",
      "execution_count": null,
      "metadata": {
        "id": "TWLgifVR1nXT"
      },
      "outputs": [],
      "source": []
    }
  ],
  "metadata": {
    "accelerator": "GPU",
    "colab": {
      "gpuType": "T4",
      "provenance": []
    },
    "kernelspec": {
      "display_name": "Python 3",
      "name": "python3"
    },
    "language_info": {
      "name": "python"
    }
  },
  "nbformat": 4,
  "nbformat_minor": 0
}